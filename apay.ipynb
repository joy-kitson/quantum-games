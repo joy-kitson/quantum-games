{
 "cells": [
  {
   "cell_type": "code",
   "execution_count": 3,
   "metadata": {},
   "outputs": [
    {
     "name": "stderr",
     "output_type": "stream",
     "text": [
      "/usr/local/lib/python3.6/dist-packages/qiskit/providers/ibmq/ibmqfactory.py:181: UserWarning: Credentials are already in use. The existing account in the session will be replaced.\n",
      "  warnings.warn('Credentials are already in use. The existing '\n"
     ]
    }
   ],
   "source": [
    "%matplotlib inline\n",
    "\n",
    "#from qiskit import IBMQ\n",
    "#IBMQ.enable_account(\"8f203c4208b9dead9b422689ba9bc8407df7dfa6d397bad3eac2a68dba4a4c13bea3e4e13399d56cbdbc00abdbb8ecea130002e29ebad954793aa81f1d7bb166\")\n",
    "\n",
    "import numpy as np\n",
    "import cmath\n",
    "\n",
    "from qiskit import QuantumCircuit, ClassicalRegister, QuantumRegister\n",
    "from qiskit import execute, BasicAer\n",
    "from qiskit.compiler import transpile\n",
    "from qiskit.quantum_info.operators import Operator, Pauli\n",
    "from qiskit.quantum_info import process_fidelity\n",
    "\n",
    "from qiskit.extensions import RXGate, CnotGate, XGate\n",
    "import matplotlib.pyplot as plt\n",
    "# Importing standard Qiskit libraries and configuring account\n",
    "import numpy as np\n",
    "from math import pi\n",
    "from qiskit import QuantumCircuit, execute, Aer, IBMQ\n",
    "from qiskit.compiler import transpile, assemble\n",
    "from qiskit.tools.jupyter import *\n",
    "from qiskit.visualization import *\n",
    "# Loading your IBM Q account(s)\n",
    "provider = IBMQ.load_account()\n",
    "\n",
    "#plotting tools:\n",
    "# This import registers the 3D projection, but is otherwise unused.\n",
    "from mpl_toolkits.mplot3d import Axes3D  # noqa: F401 unused import\n",
    "\n",
    "import matplotlib.pyplot as plt\n",
    "from matplotlib import cm\n",
    "from matplotlib.ticker import LinearLocator, FormatStrFormatter"
   ]
  },
  {
   "cell_type": "code",
   "execution_count": 5,
   "metadata": {},
   "outputs": [
    {
     "ename": "ImportError",
     "evalue": "cannot import name 'create_entangle_matrix'",
     "output_type": "error",
     "traceback": [
      "\u001b[0;31m---------------------------------------------------------------------------\u001b[0m",
      "\u001b[0;31mImportError\u001b[0m                               Traceback (most recent call last)",
      "\u001b[0;32m<ipython-input-5-f4657c229a3f>\u001b[0m in \u001b[0;36m<module>\u001b[0;34m\u001b[0m\n\u001b[0;32m----> 1\u001b[0;31m \u001b[0;32mfrom\u001b[0m \u001b[0mpd_base\u001b[0m \u001b[0;32mimport\u001b[0m \u001b[0mcreate_entangle_matrix\u001b[0m\u001b[0;34m\u001b[0m\u001b[0;34m\u001b[0m\u001b[0m\n\u001b[0m",
      "\u001b[0;31mImportError\u001b[0m: cannot import name 'create_entangle_matrix'"
     ]
    }
   ],
   "source": [
    "from pd_base import create_entangle_matrix"
   ]
  },
  {
   "cell_type": "code",
   "execution_count": 2,
   "metadata": {},
   "outputs": [
    {
     "name": "stdout",
     "output_type": "stream",
     "text": [
      "[[0.70710678-0.j         0.        +0.j         0.        +0.j\n",
      "  0.        +0.70710678j]\n",
      " [0.        +0.j         0.70710678-0.j         0.        -0.70710678j\n",
      "  0.        +0.j        ]\n",
      " [0.        +0.j         0.        -0.70710678j 0.70710678-0.j\n",
      "  0.        +0.j        ]\n",
      " [0.        +0.70710678j 0.        +0.j         0.        +0.j\n",
      "  0.70710678-0.j        ]]\n",
      "0.7071067811865475j\n"
     ]
    }
   ],
   "source": [
    "#qr = QuantumRegister(2)\n",
    "#cr = ClassicalRegister(2)\n",
    "\n",
    "qc = QuantumCircuit(2, 2)\n",
    "\n",
    "print(create_entangle_matrix(cmath.pi/2));\n",
    "print(create_entangle_matrix(cmath.pi/2).item(0,3));"
   ]
  },
  {
   "cell_type": "code",
   "execution_count": 3,
   "metadata": {},
   "outputs": [],
   "source": [
    "J = create_entangle_matrix(cmath.pi/2)\n",
    "dentangle = Operator(J.getH())# gets complex conj transpose\n",
    "entangle = Operator(J)"
   ]
  },
  {
   "cell_type": "code",
   "execution_count": 4,
   "metadata": {},
   "outputs": [],
   "source": [
    "def create_strategy_matrix(theta, phi):\n",
    "    half = theta/2\n",
    "    return np.matrix([\n",
    "        [cmath.exp(1j*phi)*cmath.cos(half), cmath.sin(half)                   ],\n",
    "        [-cmath.sin(half),                  cmath.exp(-1j*phi)*cmath.cos(half)]\n",
    "    ])"
   ]
  },
  {
   "cell_type": "code",
   "execution_count": 5,
   "metadata": {},
   "outputs": [],
   "source": [
    "alice_strat = Operator(create_strategy_matrix(cmath.pi/2,cmath.pi/2 )) \n",
    "bob_strat = Operator(create_strategy_matrix(0, 0)) "
   ]
  },
  {
   "cell_type": "code",
   "execution_count": 6,
   "metadata": {},
   "outputs": [
    {
     "data": {
      "text/plain": [
       "<qiskit.circuit.instructionset.InstructionSet at 0x7fdd3c064d68>"
      ]
     },
     "execution_count": 6,
     "metadata": {},
     "output_type": "execute_result"
    }
   ],
   "source": [
    "# Set up the circuit\n",
    "\n",
    "qc.append(entangle, [0, 1])\n",
    "qc.append(bob_strat, [0])\n",
    "qc.append(bob_strat, [1])\n",
    "qc.append(dentangle, [0, 1])\n",
    "\n",
    "qc.measure([0, 1], [0, 1])"
   ]
  },
  {
   "cell_type": "code",
   "execution_count": 7,
   "metadata": {},
   "outputs": [
    {
     "data": {
      "text/html": [
       "<pre style=\"word-wrap: normal;white-space: pre;background: #fff0;line-height: 1.1;font-family: &quot;Courier New&quot;,Courier,monospace\">        ┌──────────┐┌─────────┐┌──────────┐┌─┐   \n",
       "q_0: |0>┤0         ├┤ Unitary ├┤0         ├┤M├───\n",
       "        │  unitary │├─────────┤│  unitary │└╥┘┌─┐\n",
       "q_1: |0>┤1         ├┤ Unitary ├┤1         ├─╫─┤M├\n",
       "        └──────────┘└─────────┘└──────────┘ ║ └╥┘\n",
       " c_0: 0 ════════════════════════════════════╩══╬═\n",
       "                                               ║ \n",
       " c_1: 0 ═══════════════════════════════════════╩═\n",
       "                                                 </pre>"
      ],
      "text/plain": [
       "<qiskit.visualization.text.TextDrawing at 0x7fdd3c064eb8>"
      ]
     },
     "execution_count": 7,
     "metadata": {},
     "output_type": "execute_result"
    }
   ],
   "source": [
    "qc.draw()"
   ]
  },
  {
   "cell_type": "code",
   "execution_count": 8,
   "metadata": {},
   "outputs": [],
   "source": [
    "backend = BasicAer.get_backend('qasm_simulator')\n",
    "job = execute(qc, backend, shots=1000).result()\n",
    "counts = job.get_counts(0)"
   ]
  },
  {
   "cell_type": "code",
   "execution_count": 9,
   "metadata": {},
   "outputs": [
    {
     "data": {
      "image/png": "[encoded data removed]",
      "text/plain": [
       "<Figure size 504x360 with 1 Axes>"
      ]
     },
     "execution_count": 9,
     "metadata": {},
     "output_type": "execute_result"
    }
   ],
   "source": [
    "plot_histogram(counts)"
   ]
  },
  {
   "cell_type": "code",
   "execution_count": 38,
   "metadata": {},
   "outputs": [],
   "source": [
    "ALICE_PAY = {\n",
    "    '00': 3,\n",
    "    '01': 5,\n",
    "    '10': 0,\n",
    "    '11': 1\n",
    "}\n",
    "BOB_PAY = {\n",
    "    '00': 3,\n",
    "    '01': 0,\n",
    "    '10': 5,\n",
    "    '11': 1\n",
    "}\n",
    "\n",
    "def get_payoff(counts, payoffs):\n",
    "    # returns the expected payoff given a dict of counts for each result: [00, 01, 10, 11]\n",
    "    # and a dict of payoffs for each result\n",
    "    \n",
    "    expected_payoff = 0\n",
    "    total = 0\n",
    "    for outcome in counts:\n",
    "        expected_payoff += counts[outcome] * payoffs[outcome]\n",
    "        total += counts[outcome]\n",
    "    \n",
    "    return expected_payoff / total"
   ]
  },
  {
   "cell_type": "code",
   "execution_count": 44,
   "metadata": {},
   "outputs": [
    {
     "ename": "NameError",
     "evalue": "name 'get_pay' is not defined",
     "output_type": "error",
     "traceback": [
      "\u001b[0;31m---------------------------------------------------------------------------\u001b[0m",
      "\u001b[0;31mNameError\u001b[0m                                 Traceback (most recent call last)",
      "\u001b[0;32m<ipython-input-44-34a38224e7a3>\u001b[0m in \u001b[0;36m<module>\u001b[0;34m\u001b[0m\n\u001b[1;32m     20\u001b[0m \u001b[0mpi\u001b[0m \u001b[0;34m=\u001b[0m \u001b[0mcmath\u001b[0m\u001b[0;34m.\u001b[0m\u001b[0mpi\u001b[0m\u001b[0;34m\u001b[0m\u001b[0;34m\u001b[0m\u001b[0m\n\u001b[1;32m     21\u001b[0m \u001b[0mcounts\u001b[0m\u001b[0;34m,\u001b[0m \u001b[0mpris_del\u001b[0m \u001b[0;34m=\u001b[0m \u001b[0mrun_game\u001b[0m\u001b[0;34m(\u001b[0m\u001b[0;36m0\u001b[0m\u001b[0;34m,\u001b[0m\u001b[0;36m0\u001b[0m\u001b[0;34m,\u001b[0m\u001b[0;36m0\u001b[0m\u001b[0;34m,\u001b[0m\u001b[0;36m0\u001b[0m\u001b[0;34m,\u001b[0m\u001b[0;36m0\u001b[0m\u001b[0;34m)\u001b[0m\u001b[0;34m\u001b[0m\u001b[0;34m\u001b[0m\u001b[0m\n\u001b[0;32m---> 22\u001b[0;31m \u001b[0mprint\u001b[0m\u001b[0;34m(\u001b[0m\u001b[0mget_pay\u001b[0m\u001b[0;34m(\u001b[0m\u001b[0mcounts\u001b[0m\u001b[0;34m,\u001b[0m \u001b[0mALICE_PAY\u001b[0m\u001b[0;34m)\u001b[0m\u001b[0;34m)\u001b[0m\u001b[0;34m\u001b[0m\u001b[0;34m\u001b[0m\u001b[0m\n\u001b[0m\u001b[1;32m     23\u001b[0m \u001b[0mplot_histogram\u001b[0m\u001b[0;34m(\u001b[0m\u001b[0mcounts\u001b[0m\u001b[0;34m)\u001b[0m\u001b[0;34m\u001b[0m\u001b[0;34m\u001b[0m\u001b[0m\n",
      "\u001b[0;31mNameError\u001b[0m: name 'get_pay' is not defined"
     ]
    }
   ],
   "source": [
    "def run_game(atheta,aphi,btheta,bphi,gamma):\n",
    "    pris_del = QuantumCircuit(2, 2)\n",
    "\n",
    "    J_op = Operator(create_entangle_matrix(gamma))\n",
    "    J_op_dagger = Operator(create_entangle_matrix(gamma).getH())\n",
    "\n",
    "    pris_del.append(J_op, [0, 1])\n",
    "    pris_del.append(Operator(create_strategy_matrix(atheta,aphi)), [0])\n",
    "    pris_del.append(Operator(create_strategy_matrix(btheta,bphi)), [1])\n",
    "    pris_del.append(J_op_dagger, [0, 1])\n",
    "\n",
    "    pris_del.measure([0, 1], [0, 1])\n",
    "\n",
    "    backend = BasicAer.get_backend('qasm_simulator')\n",
    "    job = execute(pris_del, backend, shots=1000).result()\n",
    "    counts = job.get_counts(0)\n",
    "    \n",
    "    return (counts,pris_del)\n",
    "\n",
    "pi = cmath.pi    \n",
    "counts, pris_del = run_game(0,0,0,0,0)\n",
    "print(get_pay(counts, ALICE_PAY))\n",
    "plot_histogram(counts)"
   ]
  },
  {
   "cell_type": "code",
   "execution_count": 36,
   "metadata": {},
   "outputs": [
    {
     "data": {
      "text/plain": [
       "{'00': 1000}"
      ]
     },
     "execution_count": 36,
     "metadata": {},
     "output_type": "execute_result"
    }
   ],
   "source": [
    "counts"
   ]
  },
  {
   "cell_type": "code",
   "execution_count": 45,
   "metadata": {},
   "outputs": [
    {
     "data": {
      "text/html": [
       "<pre style=\"word-wrap: normal;white-space: pre;background: #fff0;line-height: 1.1;font-family: &quot;Courier New&quot;,Courier,monospace\">        ┌──────────┐┌─────────┐┌──────────┐┌─┐   \n",
       "q_0: |0>┤0         ├┤ Unitary ├┤0         ├┤M├───\n",
       "        │  unitary │├─────────┤│  unitary │└╥┘┌─┐\n",
       "q_1: |0>┤1         ├┤ Unitary ├┤1         ├─╫─┤M├\n",
       "        └──────────┘└─────────┘└──────────┘ ║ └╥┘\n",
       " c_0: 0 ════════════════════════════════════╩══╬═\n",
       "                                               ║ \n",
       " c_1: 0 ═══════════════════════════════════════╩═\n",
       "                                                 </pre>"
      ],
      "text/plain": [
       "<qiskit.visualization.text.TextDrawing at 0x7fdd13256240>"
      ]
     },
     "execution_count": 45,
     "metadata": {},
     "output_type": "execute_result"
    }
   ],
   "source": [
    "pris_del.draw()"
   ]
  },
  {
   "cell_type": "code",
   "execution_count": 39,
   "metadata": {},
   "outputs": [
    {
     "data": {
      "image/png": "[encoded data removed]",
      "text/plain": [
       "<Figure size 432x288 with 2 Axes>"
      ]
     },
     "metadata": {
      "needs_background": "light"
     },
     "output_type": "display_data"
    }
   ],
   "source": [
    "def aPaySurface(steps,gamma):\n",
    "    #init 3D plot\n",
    "    fig = plt.figure()\n",
    "    ax = fig.gca(projection='3d')\n",
    "    \n",
    "    stepSize = 2/steps\n",
    "    At = np.arange(-1,1+stepSize,stepSize)\n",
    "    Bt = np.arange(-1,1+stepSize,stepSize)\n",
    "    At, Bt = np.meshgrid(At,Bt)\n",
    "    Z = np.zeros([steps+1,steps+1])\n",
    "    \n",
    "    for index_tb in range(steps+1):\n",
    "        for index_ta in range(steps+1):\n",
    "            #normalize to [-1,1]\n",
    "            tb = (stepSize*index_tb) - 1\n",
    "            ta = (stepSize*index_ta) - 1\n",
    "            \n",
    "            #implements piecewise parameterization used in EWG games paper\n",
    "            if tb < 0:\n",
    "                btheta = 0\n",
    "                bphi = (-cmath.pi/2)*tb\n",
    "            else:\n",
    "                btheta = cmath.pi*tb\n",
    "                bphi = 0\n",
    "                \n",
    "            if ta < 0:\n",
    "                atheta = 0\n",
    "                aphi = (-cmath.pi/2)*ta\n",
    "            else:\n",
    "                atheta = cmath.pi*ta\n",
    "                aphi = 0\n",
    "            \n",
    "            counts, tmp = run_game(atheta,aphi,btheta,bphi,gamma)\n",
    "            Z[index_tb,index_ta] = get_payoff(counts, ALICE_PAY)\n",
    "            \n",
    "    # Plot the surface.\n",
    "    surf = ax.plot_surface(At, Bt, Z, cmap=cm.coolwarm, linewidth=0, antialiased=False)\n",
    "\n",
    "    # Customize the z axis.\n",
    "    \"\"\"\n",
    "    ax.set_zlim(-1.01, 1.01)\n",
    "    ax.zaxis.set_major_locator(LinearLocator(10))\n",
    "    ax.zaxis.set_major_formatter(FormatStrFormatter('%.02f'))\n",
    "    \"\"\"\n",
    "    # Add a color bar which maps values to colors.\n",
    "    fig.colorbar(surf, shrink=0.5, aspect=5)\n",
    "    \"\"\"\n",
    "    print(Z)\n",
    "    print(At)\n",
    "    print(Bt)\n",
    "    \"\"\"\n",
    "    plt.show()\n",
    "\n",
    "aPaySurface(10,cmath.pi/2)"
   ]
  },
  {
   "cell_type": "code",
   "execution_count": 42,
   "metadata": {},
   "outputs": [
    {
     "data": {
      "image/png": "[encoded data removed]",
      "text/plain": [
       "<Figure size 432x288 with 1 Axes>"
      ]
     },
     "metadata": {
      "needs_background": "light"
     },
     "output_type": "display_data"
    }
   ],
   "source": [
    "def aPayPlot(steps, atheta, aphi, gamma):\n",
    "    stepSize = 2/steps\n",
    "    Bt = np.arange(-1,1+stepSize,stepSize)\n",
    "    Y = np.zeros([steps+1])\n",
    "    \n",
    "    for index_tb in range(steps+1):\n",
    "            #normalize to [-1,1]\n",
    "            tb = (stepSize*index_tb) - 1\n",
    "            \n",
    "            #implements piecewise parameterization used in EWG games paper\n",
    "            if tb < 0:\n",
    "                btheta = 0\n",
    "                bphi = (-cmath.pi/2)*tb\n",
    "            else:\n",
    "                btheta = cmath.pi*tb\n",
    "                bphi = 0\n",
    "                \n",
    "            counts, tmp = run_game(atheta,aphi,btheta,bphi,gamma)\n",
    "            Y[index_tb] = aPay(counts)\n",
    "    \n",
    "    plt.plot(Bt,Y)     \n",
    "    plt.show()\n",
    "\n",
    "aPayPlot(100,cmath.pi/2,cmath.pi/2,cmath.pi/2)"
   ]
  },
  {
   "cell_type": "code",
   "execution_count": null,
   "metadata": {},
   "outputs": [],
   "source": []
  }
 ],
 "metadata": {
  "kernelspec": {
   "display_name": "Python 3",
   "language": "python",
   "name": "python3"
  },
  "language_info": {
   "codemirror_mode": {
    "name": "ipython",
    "version": 3
   },
   "file_extension": ".py",
   "mimetype": "text/x-python",
   "name": "python",
   "nbconvert_exporter": "python",
   "pygments_lexer": "ipython3",
   "version": "3.6.9"
  }
 },
 "nbformat": 4,
 "nbformat_minor": 2
}
